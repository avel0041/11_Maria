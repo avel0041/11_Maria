{
 "cells": [
  {
   "cell_type": "markdown",
   "metadata": {},
   "source": [
    "### Вспоминаем Python"
   ]
  },
  {
   "cell_type": "markdown",
   "metadata": {},
   "source": [
    "#### Уровень 1"
   ]
  },
  {
   "cell_type": "code",
   "execution_count": null,
   "metadata": {},
   "outputs": [],
   "source": [
    "# Дано число. Проверьте, отрицательное оно или нет. Выведите об этом информацию.\n",
    "a = int(input())\n",
    "if a<0:\n",
    "    print (\"no\")\n",
    "if a>0:\n",
    "    print ('yes')"
   ]
  },
  {
   "cell_type": "code",
   "execution_count": 12,
   "metadata": {},
   "outputs": [
    {
     "name": "stdout",
     "output_type": "stream",
     "text": [
      "c\n",
      "3\n"
     ]
    }
   ],
   "source": [
    "# Дана строка. Выведите последний символ и длину этой строки.\n",
    "a = input()\n",
    "print(a[-1])\n",
    "print(len(a))\n"
   ]
  },
  {
   "cell_type": "code",
   "execution_count": 16,
   "metadata": {},
   "outputs": [
    {
     "name": "stdout",
     "output_type": "stream",
     "text": [
      "no\n"
     ]
    }
   ],
   "source": [
    "# Даны два слова. Проверьте, что первые буквы этих слов совпадают.\n",
    "a = input()\n",
    "b = input()\n",
    "if a[0]==b[0]:\n",
    "    print ('yes')\n",
    "else:\n",
    "    print ('no')"
   ]
  },
  {
   "cell_type": "markdown",
   "metadata": {},
   "source": [
    "#### Уровень 2"
   ]
  },
  {
   "cell_type": "code",
   "execution_count": 20,
   "metadata": {},
   "outputs": [
    {
     "name": "stdout",
     "output_type": "stream",
     "text": [
      "1 3 3\n"
     ]
    }
   ],
   "source": [
    "# Дано число. Выведите первую и последнюю цифру этого числа, а также количество разрядов в этом числе.\n",
    "a = int(input())\n",
    "a = str(a) # Преобразование числа 'a' в строку\n",
    "print(a[0],a[-1],len(a))"
   ]
  },
  {
   "cell_type": "code",
   "execution_count": 38,
   "metadata": {},
   "outputs": [
    {
     "name": "stdout",
     "output_type": "stream",
     "text": [
      "[3]\n",
      "[6, 5, 4, 3, 2, 1]\n"
     ]
    }
   ],
   "source": [
    "# Дан список\n",
    "a = [1, 2, 3, 4, 5, 6]\n",
    "# Вывести первые 3 элемента списка\n",
    "print(a[2:4:2])\n",
    "\n",
    "# Дан список\n",
    "a = [1, 2, 3, 4, 5, 6]\n",
    "# Вывести элементы со 2го по 5й\n",
    "print(a[-1:-7:-1])\n"
   ]
  },
  {
   "cell_type": "code",
   "execution_count": 39,
   "metadata": {},
   "outputs": [
    {
     "name": "stdout",
     "output_type": "stream",
     "text": [
      "1\n"
     ]
    }
   ],
   "source": [
    "# Дан список\n",
    "a = [1, 2, 3, 4, 5, 6]\n",
    "# Вывести минимальный элемент в этом списке\n",
    "\n",
    "print (min(a))\n"
   ]
  },
  {
   "cell_type": "markdown",
   "metadata": {},
   "source": [
    "#### Уровень 3"
   ]
  },
  {
   "cell_type": "code",
   "execution_count": 47,
   "metadata": {},
   "outputs": [
    {
     "name": "stdout",
     "output_type": "stream",
     "text": [
      "1231\n",
      "124\n",
      "123456\n",
      "['1', '2', '3', '4', '5', '6']\n",
      "3\n"
     ]
    }
   ],
   "source": [
    "b = '123'\n",
    "print(b + '1')\n",
    "b = int(b) #Преобразуем строку в число\n",
    "print(b + 1)\n",
    "b = str(b) #Преобразуем число в строку\n",
    "\n",
    "# Дана строка\n",
    "a = '123456'\n",
    "print(a)\n",
    "# Получите список, содержащий символы из этой строки\n",
    "a = list(a)\n",
    "print(a)\n",
    "\n",
    "print(a[0] + a[1])\n",
    "print(int(a[0]) + int(a[1]))"
   ]
  },
  {
   "cell_type": "markdown",
   "metadata": {},
   "source": [
    "#### Уровень 4"
   ]
  },
  {
   "cell_type": "code",
   "execution_count": null,
   "metadata": {},
   "outputs": [],
   "source": [
    "# Вывести все целые числа от 1 до 100\n"
   ]
  },
  {
   "cell_type": "code",
   "execution_count": null,
   "metadata": {},
   "outputs": [],
   "source": [
    "# Вывести все целые числа от 100 до 1\n"
   ]
  },
  {
   "cell_type": "code",
   "execution_count": null,
   "metadata": {},
   "outputs": [],
   "source": [
    "# Вывести все четные целые числа от 1 до 100\n"
   ]
  },
  {
   "cell_type": "markdown",
   "metadata": {},
   "source": [
    "#### Уровень 5"
   ]
  },
  {
   "cell_type": "code",
   "execution_count": null,
   "metadata": {},
   "outputs": [],
   "source": [
    "# Найти сумму всех нечетных целых чисел от 1 до 100\n"
   ]
  },
  {
   "cell_type": "code",
   "execution_count": null,
   "metadata": {},
   "outputs": [],
   "source": [
    "# Дан список\n",
    "a = [1, 2, 3, -4, -5, 6]\n",
    "# Найти сумму квадратов положительных элементов этого списка\n"
   ]
  },
  {
   "cell_type": "markdown",
   "metadata": {},
   "source": [
    "#### Уровень 6"
   ]
  },
  {
   "cell_type": "code",
   "execution_count": null,
   "metadata": {},
   "outputs": [],
   "source": [
    "# Дан список со строками. Оставьте в этом списке только те строки, которые начинаются на до\n",
    "a = ['дорога', 'дом', 'дворец', 'подорожник', 'сброд']"
   ]
  },
  {
   "cell_type": "code",
   "execution_count": null,
   "metadata": {},
   "outputs": [],
   "source": [
    "# Дан список. Удалите из него элементы с заданным значением.\n",
    "a = [1, 1, 2, 4, 5, 8, 9, 10, 8]\n",
    "b = int(input())"
   ]
  },
  {
   "cell_type": "markdown",
   "metadata": {},
   "source": [
    "#### Уровень 7"
   ]
  },
  {
   "cell_type": "code",
   "execution_count": null,
   "metadata": {},
   "outputs": [],
   "source": [
    "# Автомат получает на вход четырёхзначное число (число не может начинаться с нуля). По этому числу строится новое число по следующим правилам.\n",
    "\n",
    "# 1.  Складываются отдельно первая и вторая, вторая и третья, третья и четвёртая цифры заданного числа.\n",
    "\n",
    "# 2.  Наименьшая из полученных трёх сумм удаляется.\n",
    "\n",
    "# 3.  Оставшиеся две суммы записываются друг за другом в порядке неубывания без разделителей.\n",
    "\n",
    "#  \n",
    "\n",
    "# Пример. Исходное число: 1982. Суммы: 1 + 9  =  10, 9 + 8  =  17, 8 + 2  =  10. Удаляется 10. Результат: 1017.\n",
    "\n",
    "# Укажите наибольшее число, при обработке которого автомат выдаёт результат 1315.\n",
    "\n",
    "\n"
   ]
  }
 ],
 "metadata": {
  "kernelspec": {
   "display_name": "Python 3",
   "language": "python",
   "name": "python3"
  },
  "language_info": {
   "codemirror_mode": {
    "name": "ipython",
    "version": 3
   },
   "file_extension": ".py",
   "mimetype": "text/x-python",
   "name": "python",
   "nbconvert_exporter": "python",
   "pygments_lexer": "ipython3",
   "version": "3.10.2"
  }
 },
 "nbformat": 4,
 "nbformat_minor": 2
}
